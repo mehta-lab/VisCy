{
 "cells": [
  {
   "cell_type": "markdown",
   "id": "601f44e8",
   "metadata": {
    "cell_marker": "\"\"\"",
    "lines_to_next_cell": 0
   },
   "source": [
    "# Image translation"
   ]
  },
  {
   "cell_type": "markdown",
   "id": "13ac88b9",
   "metadata": {
    "cell_marker": "\"\"\""
   },
   "source": [
    "Written by Ziwen Liu and Shalin Mehta, CZ Biohub San Francisco.\n",
    "-----------------\n",
    "\n",
    "In this exercise, we will solve an image translation task to predict fluorescence images of nuclei and membrane markers from quantitative phase images of cells. In other words, we will _virtually stain_ the nuclei and membrane visible in the phase image. \n",
    "\n",
    "Here, the source domain is label-free microscopy (material density) and the target domain is fluorescence microscopy (fluorophore density). The goal is to learn a mapping from the source domain to the target domain. We will use a deep convolutional neural network (CNN), specifically, a U-Net model with residual connections to learn the mapping. The preprocessing, training, prediction, evaluation, and deployment steps are unified in a computer vision pipeline for single-cell analysis that we call [VisCy](https://github.com/mehta-lab/VisCy).\n",
    "\n",
    "VisCy evolved from our previous work on virtual staining of cellular components from their density and anisotropy.\n",
    "![](https://iiif.elifesciences.org/lax/55502%2Felife-55502-fig1-v2.tif/full/1500,/0/default.jpg)\n",
    "\n",
    "[Guo et al. (2020) Revealing architectural order with quantitative label-free imaging and deep learning\n",
    ". eLife](https://elifesciences.org/articles/55502).\n",
    "\n",
    "VisCy exploits recent advances in the data and metadata formats ([OME-zarr](https://www.nature.com/articles/s41592-021-01326-w)) and DL frameworks, [PyTorch Lightning](https://lightning.ai/) and [MONAI](https://monai.io/). Our previous pipelinem, [microDL](https://github.com/mehta-lab/microDL), is deprecated and is now a public archive."
   ]
  },
  {
   "cell_type": "markdown",
   "id": "04678353",
   "metadata": {
    "cell_marker": "\"\"\"",
    "lines_to_next_cell": 0
   },
   "source": [
    "Today, we will train a 2D image translation model using a 2D U-Net with residual connections. We will use a dataset of 301 fields of view (FOVs) of Human Embryonic Kidney (HEK) cells, each FOV has 3 channels (phase, membrane, and nuclei). The cells were labeled with CRISPR editing. Intrestingly, not all cells during this experiment were labeled due to the stochastic nature of CRISPR editing. In such situations, virtual staining rescues missing labels.\n",
    "\n",
    "![virtual_staining](docs/figures/phase_to_nuclei_membrane.png)\n",
    "\n",
    "The exercise is organized in 3 parts. Each part should take roughly 1.5 hours to work through:\n",
    "* [Part 1](Part-1:tensorboard) - Explore the data and model using tensorboard. Launch the training before lunch.\n",
    "* Lunch break - The model will continue training during lunch.\n",
    "* [Part 2](#Part-2:evaluation) - Evaluate the training using tensorboard logs. Train a model to predict phase from nuclei and membrane.\n",
    "* [Part 3](#Part-3:exploration) - Examine the quality of predictions and metrics after adjusting the capacity of the network.\n",
    "\n",
    "\"\n",
    "Before you start,\n",
    "\n",
    "<div class=\"alert alert-danger\">\n",
    "Set your python kernel to <span style=\"color:black;\">04-image-translation</span>\n",
    "</div>"
   ]
  },
  {
   "cell_type": "markdown",
   "id": "cbce6388",
   "metadata": {
    "cell_marker": "\"\"\""
   },
   "source": [
    "(Part-1:tensorboard)=# Part 1: Visualize data and model using tensorboard, start training a model.\n",
    "\n",
    "Learning goals:\n",
    "\n",
    "- Load the and visualize the images from OME-Zarr\n",
    "- Configure the data loader\n",
    "- Initialize a 2D U-Net model for virtual staining\n",
    "- Log the images and the model to tensorboard.\n",
    "- Start training the model to predict nuclei and membrane from phase."
   ]
  },
  {
   "cell_type": "code",
   "execution_count": null,
   "id": "6c65d3b6",
   "metadata": {},
   "outputs": [],
   "source": [
    "import matplotlib.pyplot as plt\n",
    "import torch\n",
    "from iohub import open_ome_zarr\n",
    "from tensorboard import notebook\n",
    "from torchview import draw_graph\n",
    "import os\n",
    "from pathlib import Path\n",
    "import numpy as np\n",
    "\n",
    "\n",
    "from viscy.light.data import HCSDataModule\n",
    "from viscy.light.engine import VSTrainer, VSUNet\n",
    "\n",
    "BATCH_SIZE = 32\n",
    "GPU_ID = 0"
   ]
  },
  {
   "cell_type": "markdown",
   "id": "214d4782",
   "metadata": {
    "cell_marker": "\"\"\""
   },
   "source": [
    "Load Dataset.\n",
    "\n",
    "<div class=\"alert alert-info\">\n",
    "Task 1.1\n",
    "\n",
    "Use <a href=https://czbiohub-sf.github.io/iohub/main/api/ngff.html#open-ome-zarr>\n",
    "<code>iohub.open_ome_zarr</code></a> to read the dataset.\n",
    "\n",
    "There should be 301 FOVs in the dataset (9.3 GB compressed).\n",
    "\n",
    "Each FOV consists of 3 channels of 2048x2048 images,\n",
    "saved in the <a href=\"https://ngff.openmicroscopy.org/latest/#hcs-layout\">\n",
    "High-Content Screening (HCS) layout</a>\n",
    "specified by the Open Microscopy Environment Next Generation File Format\n",
    "(OME-NGFF).\n",
    "\n",
    "Run <code>open_ome_zarr?</code> in a cell to see the docstring."
   ]
  },
  {
   "cell_type": "code",
   "execution_count": null,
   "id": "6eaa0572",
   "metadata": {
    "lines_to_next_cell": 2
   },
   "outputs": [],
   "source": [
    "# set dataset path here\n",
    "data_path = Path(\n",
    "    \"~/data/04_image_translation/HEK_nuclei_membrane_pyramid.zarr/\"\n",
    ").expanduser()\n",
    "\n",
    "dataset = open_ome_zarr(data_path)\n",
    "\n",
    "print(len(list(dataset.positions())))"
   ]
  },
  {
   "cell_type": "markdown",
   "id": "f6cdae27",
   "metadata": {
    "cell_marker": "\"\"\""
   },
   "source": [
    "View images with matplotlib.\n",
    "\n",
    "The layout on the disk is: row/col/field/pyramid_level/timepoint/channel/z/y/x.\n",
    "\n",
    "\n",
    "Note that labelling is not perfect,\n",
    "as some cells are not expressing the fluorophore."
   ]
  },
  {
   "cell_type": "code",
   "execution_count": null,
   "id": "27f84a9a",
   "metadata": {},
   "outputs": [],
   "source": [
    "\n",
    "row = \"0\"\n",
    "col = \"0\"\n",
    "field = \"42\"\n",
    "# This dataset contains images at 3 resolutions.\n",
    "# '0' is the highest resolution\n",
    "# '1' is down-scaled 2x2,\n",
    "# '2' is down-scaled 4x4.\n",
    "# Such datasets are called image pyramids.\n",
    "pyaramid_level = \"0\"\n",
    "\n",
    "# `channel_names` is the metadata that is stored with data accoring to the OME-NGFF spec.\n",
    "n_channels = len(dataset.channel_names)\n",
    "\n",
    "image = dataset[f\"{row}/{col}/{field}/{pyaramid_level}\"].numpy()\n",
    "print(f\"data shape: {image.shape}, FOV: {field}, pyramid level: {pyaramid_level}\")\n",
    "\n",
    "figure, axes = plt.subplots(1, n_channels, figsize=(9, 3))\n",
    "\n",
    "for i in range(n_channels):\n",
    "    for i in range(n_channels):\n",
    "        channel_image = image[0, i, 0]\n",
    "        # Adjust contrast to 0.5th and 99.5th percentile of pixel values.\n",
    "        p1, p99 = np.percentile(channel_image, (0.5, 99.5))\n",
    "        channel_image = np.clip(channel_image, p1, p99)\n",
    "        axes[i].imshow(channel_image, cmap=\"gray\")\n",
    "        axes[i].axis(\"off\")\n",
    "        axes[i].set_title(dataset.channel_names[i])\n",
    "plt.tight_layout()"
   ]
  },
  {
   "cell_type": "markdown",
   "id": "c20a1ef5",
   "metadata": {
    "cell_marker": "\"\"\""
   },
   "source": [
    "Configure the data loaders for training and validation."
   ]
  },
  {
   "cell_type": "code",
   "execution_count": null,
   "id": "dbffa9bd",
   "metadata": {},
   "outputs": [],
   "source": [
    "data_module = HCSDataModule(\n",
    "    data_path,\n",
    "    source_channel=\"Phase\",\n",
    "    target_channel=[\"Nuclei\", \"Membrane\"],\n",
    "    z_window_size=1,\n",
    "    split_ratio=0.8,\n",
    "    batch_size=BATCH_SIZE,\n",
    "    num_workers=8,\n",
    "    architecture=\"2D\",\n",
    "    yx_patch_size=(256, 256),\n",
    ")\n",
    "\n",
    "data_module.setup(\"fit\")\n",
    "\n",
    "print(len(data_module.train_dataset), len(data_module.val_dataset))"
   ]
  },
  {
   "cell_type": "markdown",
   "id": "538378a7",
   "metadata": {
    "cell_marker": "\"\"\""
   },
   "source": [
    "<div class=\"alert alert-info\">\n",
    "Task 1.2\n",
    "\n",
    "Validate that the data can be loaded in batches correctly.\n",
    "</div>"
   ]
  },
  {
   "cell_type": "code",
   "execution_count": null,
   "id": "57b591e7",
   "metadata": {},
   "outputs": [],
   "source": [
    "train_dataloader = data_module.train_dataloader()\n",
    "\n",
    "for i, batch in enumerate(train_dataloader):\n",
    "    ...\n",
    "    # plot one image from each of the batch and break\n",
    "    break"
   ]
  },
  {
   "cell_type": "markdown",
   "id": "b1492bfd",
   "metadata": {
    "cell_marker": "\"\"\""
   },
   "source": [
    "Construct a 2D U-Net for image translation.\n",
    "\n",
    "See ``viscy.unet.networks.Unet2D.Unet2d`` for configuration details.\n",
    "Increase the ``depth`` in ``draw_graph`` to zoom in."
   ]
  },
  {
   "cell_type": "code",
   "execution_count": null,
   "id": "415f0a91",
   "metadata": {},
   "outputs": [],
   "source": [
    "model_config = {\n",
    "    \"architecture\": \"2D\",\n",
    "    \"in_channels\": 1,\n",
    "    \"out_channels\": 2,\n",
    "    \"residual\": True,\n",
    "    \"dropout\": 0.1,\n",
    "    \"task\": \"reg\",\n",
    "}\n",
    "\n",
    "model = VSUNet(\n",
    "    model_config=model_config.copy(),\n",
    "    batch_size=BATCH_SIZE,\n",
    "    loss_function=torch.nn.functional.mse_loss,\n",
    "    schedule=\"WarmupCosine\",\n",
    "    log_num_samples=10,\n",
    ")\n",
    "\n",
    "# visualize graph\n",
    "model_graph = draw_graph(model, model.example_input_array, depth=2, device=\"cpu\")\n",
    "graph = model_graph.visual_graph\n",
    "graph"
   ]
  },
  {
   "cell_type": "markdown",
   "id": "2d4cf103",
   "metadata": {
    "cell_marker": "\"\"\""
   },
   "source": [
    "Configure trainer class.\n",
    "Here we use the ``fast_dev_run`` flag to run a sanity check first."
   ]
  },
  {
   "cell_type": "code",
   "execution_count": null,
   "id": "fb3f0848",
   "metadata": {},
   "outputs": [],
   "source": [
    "trainer = VSTrainer(accelerator=\"gpu\", devices=[GPU_ID], fast_dev_run=True)\n",
    "\n",
    "trainer.fit(model, datamodule=data_module)"
   ]
  },
  {
   "cell_type": "markdown",
   "id": "9fc0dc30",
   "metadata": {
    "cell_marker": "\"\"\""
   },
   "source": [
    "<div class=\"alert alert-info\">\n",
    "Task 1.3\n",
    "\n",
    "Modify the trainer to train the model for 20 epochs.\n",
    "</div>"
   ]
  },
  {
   "cell_type": "markdown",
   "id": "9cbccde9",
   "metadata": {
    "cell_marker": "\"\"\""
   },
   "source": [
    "Tips:\n",
    "\n",
    "- See ``VSTrainer?`` for all the available parameters.\n",
    "- Set ``default_root_dir`` to store the logs and checkpoints\n",
    "in a specific directory."
   ]
  },
  {
   "cell_type": "markdown",
   "id": "0ccba375",
   "metadata": {
    "cell_marker": "\"\"\""
   },
   "source": [
    "Bonus:\n",
    "\n",
    "- Tweak model hyperparameters\n",
    "- Adjust batch size to fully utilize the VRAM"
   ]
  },
  {
   "cell_type": "markdown",
   "id": "27a7136e",
   "metadata": {
    "cell_marker": "\"\"\""
   },
   "source": [
    "Launch TensorBoard with:\n",
    "\n",
    "```\n",
    "%load_ext tensorboard\n",
    "%tensorboard --logdir /path/to/lightning_logs\n",
    "```"
   ]
  },
  {
   "cell_type": "code",
   "execution_count": null,
   "id": "8fe9cbda",
   "metadata": {},
   "outputs": [],
   "source": [
    "notebook.list()"
   ]
  },
  {
   "cell_type": "code",
   "execution_count": null,
   "id": "f3855287",
   "metadata": {},
   "outputs": [],
   "source": [
    "notebook.display(port=6006, height=800)"
   ]
  },
  {
   "cell_type": "markdown",
   "id": "4a3e91f8",
   "metadata": {
    "cell_marker": "\"\"\""
   },
   "source": [
    "<div class=\"alert alert-success\">\n",
    "Checkpoint 1\n",
    "\n",
    "Now the training has started,\n",
    "we can come back after a while and evaluate the performance!\n",
    "</div>"
   ]
  },
  {
   "cell_type": "code",
   "execution_count": null,
   "id": "799048df",
   "metadata": {},
   "outputs": [],
   "source": []
  }
 ],
 "metadata": {
  "jupytext": {
   "cell_metadata_filter": "all",
   "main_language": "python"
  }
 },
 "nbformat": 4,
 "nbformat_minor": 5
}
