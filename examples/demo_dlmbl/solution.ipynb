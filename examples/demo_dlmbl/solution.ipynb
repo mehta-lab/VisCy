{
 "cells": [
  {
   "cell_type": "markdown",
   "id": "c9438eb5",
   "metadata": {
    "cell_marker": "\"\"\""
   },
   "source": [
    "# Image translation\n",
    "---\n",
    "\n",
    "Written by Ziwen Liu and Shalin Mehta, CZ Biohub San Francisco.\n",
    "---\n",
    "\n",
    "In this exercise, we will solve an image translation task to predict fluorescence images of nuclei and membrane markers from quantitative phase images of cells. In other words, we will _virtually stain_ the nuclei and membrane visible in the phase image. \n",
    "\n",
    "Here, the source domain is label-free microscopy (material density) and the target domain is fluorescence microscopy (fluorophore density). The goal is to learn a mapping from the source domain to the target domain. We will use a deep convolutional neural network (CNN), specifically, a U-Net model with residual connections to learn the mapping. The preprocessing, training, prediction, evaluation, and deployment steps are unified in a computer vision pipeline for single-cell analysis that we call [VisCy](https://github.com/mehta-lab/VisCy).\n",
    "\n",
    "VisCy evolved from our previous work on virtual staining of cellular components from their density and anisotropy.\n",
    "![](https://iiif.elifesciences.org/lax/55502%2Felife-55502-fig1-v2.tif/full/1500,/0/default.jpg)\n",
    "\n",
    "[Guo et al. (2020) Revealing architectural order with quantitative label-free imaging and deep learning\n",
    ". eLife](https://elifesciences.org/articles/55502).\n",
    "\n",
    "VisCy exploits recent advances in the data and metadata formats ([OME-zarr](https://www.nature.com/articles/s41592-021-01326-w)) and DL frameworks, [PyTorch Lightning](https://lightning.ai/) and [MONAI](https://monai.io/). Our previous pipeline, [microDL](https://github.com/mehta-lab/microDL), is deprecated and is now a public archive."
   ]
  },
  {
   "cell_type": "markdown",
   "id": "b36463af",
   "metadata": {
    "cell_marker": "\"\"\"",
    "lines_to_next_cell": 0
   },
   "source": [
    "Today, we will train a 2D image translation model using a 2D U-Net with residual connections. We will use a dataset of 301 fields of view (FOVs) of Human Embryonic Kidney (HEK) cells, each FOV has 3 channels (phase, membrane, and nuclei). The cells were labeled with CRISPR editing. Intrestingly, not all cells during this experiment were labeled due to the stochastic nature of CRISPR editing. In such situations, virtual staining rescues missing labels.\n",
    "![HEK](https://github.com/mehta-lab/VisCy/blob/dlmbl2023/docs/figures/phase_to_nuclei_membrane.svg?raw=true)\n",
    "\n",
    "<div class=\"alert alert-info\">\n",
    "The exercise is organized in 3 parts.\n",
    "\n",
    "* **Part 1** - Explore the data using tensorboard. Launch the training before lunch.\n",
    "* Lunch break - The model will continue training during lunch.\n",
    "* **Part 2** - Evaluate the training with tensorboard. Train another model.\n",
    "* **Part 3** - Tune the models to improve performance.\n",
    "</div>\n",
    "\n",
    "📖 As you work through parts 2 and 3, please share the layouts of the models you train and their performance with everyone via [this google doc](https://docs.google.com/document/d/1hZWSVRvt9KJEdYu7ib-vFBqAVQRYL8cWaP_vFznu7D8/edit#heading=h.n5u485pmzv2z) 📖.\n",
    "\n",
    "\n",
    "Our guesstimate is that each of the three parts will take ~1.5 hours, but don't rush parts 1 and 2 if you need more time with them.\n",
    "We will discuss your observations on google doc after checkpoints 2 and 3. The exercise is focused on understanding information contained in data, process of training and evaluating image translation models, and parameter exploration.\n",
    "There are a few coding tasks sprinkled in.\n",
    "\n",
    "\n",
    "Before you start,\n",
    "\n",
    "<div class=\"alert alert-danger\">\n",
    "Set your python kernel to <span style=\"color:black;\">04-image-translation</span>\n",
    "</div>"
   ]
  },
  {
   "cell_type": "markdown",
   "id": "ff42876f",
   "metadata": {
    "cell_marker": "\"\"\"",
    "incorrectly_encoded_metadata": "id='1_phase2fluor'></a>",
    "title": "<a"
   },
   "source": [
    "# Part 1: Log training data to tensorboard, start training a model.\n",
    "---------\n",
    "\n",
    "Learning goals:\n",
    "\n",
    "- Load the OME-zarr dataset and examine the channels.\n",
    "- Configure and understand the data loader.\n",
    "- Log some patches to tensorboard.\n",
    "- Initialize a 2D U-Net model for virtual staining\n",
    "- Start training the model to predict nuclei and membrane from phase."
   ]
  },
  {
   "cell_type": "code",
   "execution_count": null,
   "id": "dd604022",
   "metadata": {
    "lines_to_next_cell": 2,
    "title": "Imports and paths"
   },
   "outputs": [],
   "source": [
    "\n",
    "from pathlib import Path\n",
    "\n",
    "import matplotlib.pyplot as plt\n",
    "import numpy as np\n",
    "import pandas as pd\n",
    "import torch\n",
    "import torchview\n",
    "import torchvision\n",
    "from iohub import open_ome_zarr\n",
    "from lightning.pytorch import seed_everything\n",
    "from lightning.pytorch.loggers import CSVLogger\n",
    "\n",
    "# pytorch lightning wrapper for Tensorboard.\n",
    "from tensorboard import notebook  # for viewing tensorboard in notebook\n",
    "from torch.utils.tensorboard import SummaryWriter  # for logging to tensorboard\n",
    "\n",
    "# HCSDataModule makes it easy to load data during training.\n",
    "from viscy.light.data import HCSDataModule\n",
    "\n",
    "# Trainer class and UNet.\n",
    "from viscy.light.engine import VSTrainer, VSUNet\n",
    "\n",
    "seed_everything(42, workers=True)\n",
    "\n",
    "# Paths to data and log directory\n",
    "data_path = Path(\n",
    "    Path(\"~/data/04_image_translation/HEK_nuclei_membrane_pyramid.zarr/\")\n",
    ").expanduser()\n",
    "\n",
    "log_dir = Path(\"~/data/04_image_translation/logs/\").expanduser()\n",
    "\n",
    "# Create log directory if needed, and launch tensorboard\n",
    "log_dir.mkdir(parents=True, exist_ok=True)\n",
    "\n",
    "# fmt: off\n",
    "%reload_ext tensorboard\n",
    "%tensorboard --logdir {log_dir}\n",
    "# fmt: on"
   ]
  },
  {
   "cell_type": "markdown",
   "id": "d5e5c411",
   "metadata": {
    "cell_marker": "\"\"\""
   },
   "source": [
    "## Load Dataset.\n",
    "\n",
    "<div class=\"alert alert-info\">\n",
    "Task 1.1\n",
    "Use <a href=https://czbiohub-sf.github.io/iohub/main/api/ngff.html#open-ome-zarr>\n",
    "<code>iohub.open_ome_zarr</code></a> to read the dataset and explore several FOVs with matplotlib.\n",
    "</div>\n",
    "\n",
    "There should be 301 FOVs in the dataset (12 GB compressed).\n",
    "\n",
    "Each FOV consists of 3 channels of 2048x2048 images,\n",
    "saved in the <a href=\"https://ngff.openmicroscopy.org/latest/#hcs-layout\">\n",
    "High-Content Screening (HCS) layout</a>\n",
    "specified by the Open Microscopy Environment Next Generation File Format\n",
    "(OME-NGFF).\n",
    "\n",
    "The layout on the disk is: row/col/field/pyramid_level/timepoint/channel/z/y/x.\n",
    "Notice that labelling of nuclei channel is not complete - some cells are not expressing the fluorescent protein."
   ]
  },
  {
   "cell_type": "code",
   "execution_count": null,
   "id": "e0241037",
   "metadata": {},
   "outputs": [],
   "source": [
    "\n",
    "dataset = open_ome_zarr(data_path)\n",
    "\n",
    "print(f\"Number of positions: {len(list(dataset.positions()))}\")\n",
    "\n",
    "# Use the field and pyramid_level below to visualize data.\n",
    "row = \"0\"\n",
    "col = \"0\"\n",
    "field = \"23\"\n",
    "\n",
    "# This dataset contains images at 3 resolutions.\n",
    "# '0' is the highest resolution\n",
    "# '1' is down-scaled 2x2,\n",
    "# '2' is down-scaled 4x4.\n",
    "# Such datasets are called image pyramids.\n",
    "pyaramid_level = \"0\"\n",
    "\n",
    "# `channel_names` is the metadata that is stored with data according to the OME-NGFF spec.\n",
    "n_channels = len(dataset.channel_names)\n",
    "\n",
    "image = dataset[f\"{row}/{col}/{field}/{pyaramid_level}\"].numpy()\n",
    "print(f\"data shape: {image.shape}, FOV: {field}, pyramid level: {pyaramid_level}\")\n",
    "\n",
    "figure, axes = plt.subplots(1, n_channels, figsize=(9, 3))\n",
    "\n",
    "for i in range(n_channels):\n",
    "    for i in range(n_channels):\n",
    "        channel_image = image[0, i, 0]\n",
    "        # Adjust contrast to 0.5th and 99.5th percentile of pixel values.\n",
    "        p_low, p_high = np.percentile(channel_image, (0.5, 99.5))\n",
    "        channel_image = np.clip(channel_image, p_low, p_high)\n",
    "        axes[i].imshow(channel_image, cmap=\"gray\")\n",
    "        axes[i].axis(\"off\")\n",
    "        axes[i].set_title(dataset.channel_names[i])\n",
    "plt.tight_layout()"
   ]
  },
  {
   "cell_type": "markdown",
   "id": "89e676bf",
   "metadata": {
    "cell_marker": "\"\"\""
   },
   "source": [
    "## Initialize data loaders and see the samples in tensorboard.\n",
    "\n",
    "<div class=\"alert alert-info\">\n",
    "Task 1.2\n",
    "Setup the data loader and log several batches to tensorboard.\n",
    "</div>`\n",
    "\n",
    "VisCy builds on top of PyTorch Lightning. PyTorch Lightning is a thin wrapper around PyTorch that allows rapid experimentation. It provides a [DataModule](https://lightning.ai/docs/pytorch/stable/data/datamodule.html) to handle loading and processing of data during training. VisCy provides a child class, `HCSDataModule` to make it intuitve to access data stored in the HCS layout.\n",
    "  \n",
    "The dataloader in `HCSDataModule` returns a batch of samples. A `batch` is a list of dictionaries. The length of the list is equal to the batch size. Each dictionary consists of following key-value pairs.\n",
    "- `source`: the input image, a tensor of size 1*1*Y*X\n",
    "- `target`: the target image, a tensor of size 2*1*Y*X\n",
    "- `index` : the tuple of (location of field in HCS layout, time, and z-slice) of the sample."
   ]
  },
  {
   "cell_type": "code",
   "execution_count": null,
   "id": "05ce4dbb",
   "metadata": {},
   "outputs": [],
   "source": [
    "# Define a function to write a batch to tensorboard log.\n",
    "\n",
    "\n",
    "def log_batch_tensorboard(batch, batchno, writer, card_name):\n",
    "    \"\"\"\n",
    "    Logs a batch of images to TensorBoard.\n",
    "\n",
    "    Args:\n",
    "        batch (dict): A dictionary containing the batch of images to be logged.\n",
    "        writer (SummaryWriter): A TensorBoard SummaryWriter object.\n",
    "        card_name (str): The name of the card to be displayed in TensorBoard.\n",
    "\n",
    "    Returns:\n",
    "        None\n",
    "    \"\"\"\n",
    "    batch_phase = batch[\"source\"][:, :, 0, :, :]  # batch_size x z_size x Y x X tensor.\n",
    "    batch_membrane = batch[\"target\"][:, 1, 0, :, :].unsqueeze(\n",
    "        1\n",
    "    )  # batch_size x 1 x Y x X tensor.\n",
    "    batch_nuclei = batch[\"target\"][:, 0, 0, :, :].unsqueeze(\n",
    "        1\n",
    "    )  # batch_size x 1 x Y x X tensor.\n",
    "\n",
    "    p1, p99 = np.percentile(batch_membrane, (0.1, 99.9))\n",
    "    batch_membrane = np.clip((batch_membrane - p1) / (p99 - p1), 0, 1)\n",
    "\n",
    "    p1, p99 = np.percentile(batch_nuclei, (0.1, 99.9))\n",
    "    batch_nuclei = np.clip((batch_nuclei - p1) / (p99 - p1), 0, 1)\n",
    "\n",
    "    p1, p99 = np.percentile(batch_phase, (0.1, 99.9))\n",
    "    batch_phase = np.clip((batch_phase - p1) / (p99 - p1), 0, 1)\n",
    "\n",
    "    [N, C, H, W] = batch_phase.shape\n",
    "    interleaved_images = torch.zeros((3 * N, C, H, W), dtype=batch_phase.dtype)\n",
    "    interleaved_images[0::3, :] = batch_phase\n",
    "    interleaved_images[1::3, :] = batch_nuclei\n",
    "    interleaved_images[2::3, :] = batch_membrane\n",
    "\n",
    "    grid = torchvision.utils.make_grid(interleaved_images, nrow=3)\n",
    "\n",
    "    # add the grid to tensorboard\n",
    "    writer.add_image(card_name, grid, batchno)"
   ]
  },
  {
   "cell_type": "code",
   "execution_count": null,
   "id": "f627e8e8",
   "metadata": {},
   "outputs": [],
   "source": [
    "\n",
    "# Initialize the data module.\n",
    "\n",
    "BATCH_SIZE = 42\n",
    "# 42 is a perfectly reasonable batch size. After all, it is the answer to the ultimate question of life, the universe and everything.\n",
    "# More seriously, batch size does not have to be a power of 2.\n",
    "# See: https://sebastianraschka.com/blog/2022/batch-size-2.html\n",
    "\n",
    "data_module = HCSDataModule(\n",
    "    data_path,\n",
    "    source_channel=\"Phase\",\n",
    "    target_channel=[\"Nuclei\", \"Membrane\"],\n",
    "    z_window_size=1,\n",
    "    split_ratio=0.8,\n",
    "    batch_size=BATCH_SIZE,\n",
    "    num_workers=8,\n",
    "    architecture=\"2D\",\n",
    "    yx_patch_size=(512, 512),  # larger patch size makes it easy to see augmentations.\n",
    "    augment=False,  # Turn off augmentation for now.\n",
    ")\n",
    "data_module.setup(\"fit\")\n",
    "\n",
    "print(\n",
    "    f\"FOVs in training set: {len(data_module.train_dataset)}, FOVs in validation set:{len(data_module.val_dataset)}\"\n",
    ")\n",
    "train_dataloader = data_module.train_dataloader()\n",
    "\n",
    "# Instantiate the tensorboard SummaryWriter, logs the first batch and then iterates through all the batches and logs them to tensorboard.\n",
    "\n",
    "writer = SummaryWriter(log_dir=f\"{log_dir}/view_batch\")\n",
    "# Draw a batch and write to tensorboard.\n",
    "batch = next(iter(train_dataloader))\n",
    "log_batch_tensorboard(batch, 0, writer, \"augmentation/none\")\n",
    "\n",
    "# Iterate through all the batches and log them to tensorboard.\n",
    "for i, batch in enumerate(train_dataloader):\n",
    "    log_batch_tensorboard(batch, i, writer, \"augmentation/none\")\n",
    "writer.close()"
   ]
  },
  {
   "cell_type": "markdown",
   "id": "f6ffc7d1",
   "metadata": {
    "cell_marker": "\"\"\""
   },
   "source": [
    "There are multiple ways of seeing the tensorboard.\n",
    "1. Jupyter lab forwards the tensorboard port to the browser. Go to http://localhost:6006/ to see the tensorboard.\n",
    "2. You likely have an open viewer in the first cell where you loaded tensorboard jupyter extension.\n",
    "3. If you want to see tensorboard in a specific cell, use the following code.\n",
    "```\n",
    "notebook.list() # View open TensorBoard instances\n",
    "notebook.display(port=6006, height=800) # Display the TensorBoard instance specified by the port.\n",
    "```"
   ]
  },
  {
   "cell_type": "markdown",
   "id": "ed1448ff",
   "metadata": {
    "cell_marker": "\"\"\"",
    "lines_to_next_cell": 0
   },
   "source": [
    "## View augmentations using tensorboard.\n",
    "\n",
    "<div class=\"alert alert-info\">\n",
    "Task 1.3\n",
    "Turn on augmentation and view the batch in tensorboard."
   ]
  },
  {
   "cell_type": "code",
   "execution_count": null,
   "id": "245ae4dd",
   "metadata": {
    "lines_to_next_cell": 2
   },
   "outputs": [],
   "source": [
    "##########################\n",
    "######## TODO ########\n",
    "##########################\n",
    "\n",
    "# Write code to turn on augmentations, change batch sizes and log them to tensorboard.\n",
    "# See how the training data changes as a function of these parameters.\n",
    "# Remember to call `data_module.setup(\"fit\")` after changing the parameters."
   ]
  },
  {
   "cell_type": "code",
   "execution_count": null,
   "id": "e14f4faf",
   "metadata": {
    "tags": [
     "solution"
    ]
   },
   "outputs": [],
   "source": [
    "##########################\n",
    "######## Solution ########\n",
    "##########################\n",
    "\n",
    "data_module.augment = True\n",
    "data_module.batch_size = 21\n",
    "data_module.split_ratio = 0.8\n",
    "data_module.setup(\"fit\")\n",
    "\n",
    "train_dataloader = data_module.train_dataloader()\n",
    "# Draw batches and write to tensorboard\n",
    "writer = SummaryWriter(log_dir=f\"{log_dir}/view_batch\")\n",
    "for i, batch in enumerate(train_dataloader):\n",
    "    log_batch_tensorboard(batch, i, writer, \"augmentation/some\")\n",
    "writer.close()"
   ]
  },
  {
   "cell_type": "markdown",
   "id": "85743be9",
   "metadata": {
    "cell_marker": "\"\"\""
   },
   "source": [
    "##  Construct a 2D U-Net for image translation.\n",
    "See ``viscy.unet.networks.Unet2D.Unet2d`` for configuration details.\n",
    "We setup a fresh data module and instantiate the trainer class."
   ]
  },
  {
   "cell_type": "code",
   "execution_count": null,
   "id": "44fddf02",
   "metadata": {
    "lines_to_next_cell": 2
   },
   "outputs": [],
   "source": [
    "\n",
    "# The entire training loop is contained in this cell.\n",
    "\n",
    "GPU_ID = 0\n",
    "BATCH_SIZE = 10\n",
    "YX_PATCH_SIZE = (512, 512)\n",
    "\n",
    "\n",
    "# Dictionary that specifies key parameters of the model.\n",
    "phase2fluor_config = {\n",
    "    \"architecture\": \"2D\",\n",
    "    \"num_filters\": [24, 48, 96, 192, 384],\n",
    "    \"in_channels\": 1,\n",
    "    \"out_channels\": 2,\n",
    "    \"residual\": True,\n",
    "    \"dropout\": 0.1,  # dropout randomly turns off weights to avoid overfitting of the model to data.\n",
    "    \"task\": \"reg\",  # reg = regression task.\n",
    "}\n",
    "\n",
    "phase2fluor_model = VSUNet(\n",
    "    model_config=phase2fluor_config.copy(),\n",
    "    batch_size=BATCH_SIZE,\n",
    "    loss_function=torch.nn.functional.l1_loss,\n",
    "    schedule=\"WarmupCosine\",\n",
    "    log_num_samples=10,  # Number of samples from each batch to log to tensorboard.\n",
    "    example_input_yx_shape=YX_PATCH_SIZE,\n",
    ")\n",
    "\n",
    "# Reinitialize the data module.\n",
    "phase2fluor_data = HCSDataModule(\n",
    "    data_path,\n",
    "    source_channel=\"Phase\",\n",
    "    target_channel=[\"Nuclei\", \"Membrane\"],\n",
    "    z_window_size=1,\n",
    "    split_ratio=0.8,\n",
    "    batch_size=BATCH_SIZE,\n",
    "    num_workers=8,\n",
    "    architecture=\"2D\",\n",
    "    yx_patch_size=YX_PATCH_SIZE,\n",
    "    augment=True,\n",
    ")\n",
    "phase2fluor_data.setup(\"fit\")"
   ]
  },
  {
   "cell_type": "markdown",
   "id": "292cb22a",
   "metadata": {
    "cell_marker": "\"\"\""
   },
   "source": [
    "<div class=\"alert alert-info\">\n",
    "Task 1.4\n",
    "Setup the training for ~30 epochs\n",
    "</div>\n",
    "\n",
    "Tips:\n",
    "- Set ``default_root_dir`` to store the logs and checkpoints\n",
    "in a specific directory."
   ]
  },
  {
   "cell_type": "code",
   "execution_count": null,
   "id": "b9cf215b",
   "metadata": {
    "lines_to_next_cell": 2,
    "title": "Setup trainer and check for errors."
   },
   "outputs": [],
   "source": [
    "\n",
    "# fast_dev_run runs a single batch of data through the model to check for errors.\n",
    "trainer = VSTrainer(accelerator=\"gpu\", devices=[GPU_ID], fast_dev_run=True)\n",
    "\n",
    "# trainer class takes the model and the data module as inputs.\n",
    "trainer.fit(phase2fluor_model, datamodule=phase2fluor_data)"
   ]
  },
  {
   "cell_type": "code",
   "execution_count": null,
   "id": "5f11d604",
   "metadata": {
    "lines_to_next_cell": 2
   },
   "outputs": [],
   "source": [
    "\n",
    "GPU_ID = 0\n",
    "n_samples = len(phase2fluor_data.train_dataset)\n",
    "steps_per_epoch = n_samples // BATCH_SIZE  # steps per epoch.\n",
    "n_epochs = 30\n",
    "\n",
    "trainer = VSTrainer(\n",
    "    accelerator=\"gpu\",\n",
    "    devices=[GPU_ID],\n",
    "    max_epochs=n_epochs,\n",
    "    log_every_n_steps=steps_per_epoch // 2,\n",
    "    # log losses and image samples 2 times per epoch.\n",
    "    default_root_dir=Path(\n",
    "        log_dir, \"phase2fluor\"\n",
    "    ),  # lightning trainer transparently saves logs and model checkpoints in this directory.\n",
    ")\n",
    "\n",
    "# Log graph\n",
    "trainer.logger.log_graph(phase2fluor_model, phase2fluor_data.train_dataset[0][\"source\"])\n",
    "# Launch training.\n",
    "trainer.fit(phase2fluor_model, datamodule=phase2fluor_data)"
   ]
  },
  {
   "cell_type": "markdown",
   "id": "157a989c",
   "metadata": {
    "cell_marker": "\"\"\""
   },
   "source": [
    "<div class=\"alert alert-success\">\n",
    "Checkpoint 1\n",
    "\n",
    "Now the training has started,\n",
    "we can come back after a while and evaluate the performance!\n",
    "</div>"
   ]
  },
  {
   "cell_type": "markdown",
   "id": "d68dab93",
   "metadata": {
    "cell_marker": "\"\"\"",
    "incorrectly_encoded_metadata": "id='1_fluor2phase'></a>",
    "title": "<a"
   },
   "source": [
    "# Part 2: Assess previous model, train fluorescence to phase contrast translation model.\n",
    "--------------------------------------------------\n",
    "\n",
    "Learning goals:\n",
    "- Visualize the previous model and training with tensorboard\n",
    "- Train fluorescence to phase contrast translation model\n",
    "- Compare the performance of the two models."
   ]
  },
  {
   "cell_type": "code",
   "execution_count": null,
   "id": "bcf30df5",
   "metadata": {},
   "outputs": [],
   "source": [
    "\n",
    "# PyTorch uses dynamic graphs under the hood. The graphs are constructed on the fly. This is in contrast to TensorFlow, where the graph is constructed before the training loop and remains static. In other words, the graph of the network can change with every forward pass. Therefore, we need to supply an input tensor to construct the graph. The input tensor can be a random tensor of the correct shape and type. We can also supply a real image from the dataset. The latter is more useful for debugging.\n",
    "\n",
    "# visualize graph.\n",
    "model_graph_phase2fluor = torchview.draw_graph(\n",
    "    phase2fluor_model,\n",
    "    phase2fluor_data.train_dataset[0][\"source\"],\n",
    "    depth=2,  # adjust depth to zoom in.\n",
    "    device=\"cpu\",\n",
    ")\n",
    "# Increase the depth to zoom in.\n",
    "model_graph_phase2fluor.visual_graph"
   ]
  },
  {
   "cell_type": "code",
   "execution_count": null,
   "id": "5f226b27",
   "metadata": {
    "tags": [
     "solution"
    ]
   },
   "outputs": [],
   "source": [
    "fluor2phase_data = HCSDataModule(\n",
    "    data_path,\n",
    "    source_channel=\"Nuclei\",\n",
    "    target_channel=\"Phase\",\n",
    "    z_window_size=1,\n",
    "    split_ratio=0.8,\n",
    "    batch_size=BATCH_SIZE,\n",
    "    num_workers=8,\n",
    "    architecture=\"2D\",\n",
    "    yx_patch_size=YX_PATCH_SIZE,\n",
    "    augment=True,\n",
    ")\n",
    "fluor2phase_data.setup(\"fit\")\n",
    "\n",
    "# Dictionary that specifies key parameters of the model.\n",
    "fluor2phase_config = {\n",
    "    \"architecture\": \"2D\",\n",
    "    \"in_channels\": 1,\n",
    "    \"out_channels\": 1,\n",
    "    \"residual\": True,\n",
    "    \"dropout\": 0.1,  # dropout randomly turns off weights to avoid overfitting of the model to data.\n",
    "    \"task\": \"reg\",  # reg = regression task.\n",
    "    \"num_filters\": [24, 48, 96, 192, 384],\n",
    "}\n",
    "\n",
    "fluor2phase_model = VSUNet(\n",
    "    model_config=fluor2phase_config.copy(),\n",
    "    batch_size=BATCH_SIZE,\n",
    "    loss_function=torch.nn.functional.mse_loss,\n",
    "    schedule=\"WarmupCosine\",\n",
    "    log_num_samples=10,\n",
    "    example_input_yx_shape=YX_PATCH_SIZE,\n",
    ")\n",
    "\n",
    "n_samples = len(fluor2phase_data.train_dataset)\n",
    "steps_per_epoch = n_samples // BATCH_SIZE\n",
    "n_epochs = 30\n",
    "\n",
    "trainer = VSTrainer(\n",
    "    accelerator=\"gpu\",\n",
    "    devices=[GPU_ID],\n",
    "    max_epochs=n_epochs,\n",
    "    log_every_n_steps=steps_per_epoch,\n",
    "    default_root_dir=Path(log_dir, \"fluor2phase\"),\n",
    ")\n",
    "trainer.logger.log_graph(fluor2phase_model, fluor2phase_data.train_dataset[0][\"source\"])\n",
    "trainer.fit(fluor2phase_model, datamodule=fluor2phase_data)"
   ]
  },
  {
   "cell_type": "code",
   "execution_count": null,
   "id": "4eb094e7",
   "metadata": {},
   "outputs": [],
   "source": [
    "# Visualize the graph of fluor2phase model.\n",
    "model_graph_fluor2phase = torchview.draw_graph(\n",
    "    phase2fluor_model,\n",
    "    phase2fluor_data.train_dataset[0][\"source\"],\n",
    "    depth=2,  # adjust depth to zoom in.\n",
    "    device=\"cpu\",\n",
    ")\n",
    "model_graph_fluor2phase.visual_graph"
   ]
  },
  {
   "cell_type": "markdown",
   "id": "756351fa",
   "metadata": {
    "cell_marker": "\"\"\"",
    "lines_to_next_cell": 0
   },
   "source": [
    "We now look at some metrics of performance. Loss is a differentiable metric. But, several non-differentiable metrics are useful to assess the performance of the model. We typically evaluate the model performance on a held out test data. We will use the following metrics to evaluate the accuracy of regression of the model:\n",
    "- [Coefficient of determination](https://en.wikipedia.org/wiki/Coefficient_of_determination): $R^2$ \n",
    "- [Person Correlation](https://en.wikipedia.org/wiki/Pearson_correlation_coefficient).\n",
    "- [Structural similarity](https://en.wikipedia.org/wiki/Structural_similarity) (SSIM):"
   ]
  },
  {
   "cell_type": "code",
   "execution_count": null,
   "id": "46c6b30c",
   "metadata": {
    "lines_to_next_cell": 0
   },
   "outputs": [],
   "source": [
    "\n",
    "# TODO: set following parameters, specifically path to checkpoint, and log the metrics.\n",
    "test_data_path = Path(\n",
    "    \"~/data/04_image_translation/HEK_nuclei_membrane_test.zarr\"\n",
    ").expanduser()\n",
    "model_version = \"phase2fluor\"\n",
    "save_dir = Path(log_dir, \"test\")\n",
    "ckpt_path = Path(\n",
    "    r\"/home/mehtas/data/04_image_translation/logs/phase2fluor/lightning_logs/version_0/checkpoints/epoch=29-step=720.ckpt\"\n",
    ")  # prefix the string with 'r' to avoid the need for escape characters.\n",
    "### END TODO\n",
    "\n",
    "test_data = HCSDataModule(\n",
    "    test_data_path,\n",
    "    source_channel=\"Phase\",\n",
    "    target_channel=[\"Nuclei\", \"Membrane\"],\n",
    "    z_window_size=1,\n",
    "    batch_size=1,\n",
    "    num_workers=8,\n",
    "    architecture=\"2D\",\n",
    ")\n",
    "test_data.setup(\"test\")\n",
    "trainer = VSTrainer(\n",
    "    accelerator=\"gpu\",\n",
    "    devices=[GPU_ID],\n",
    "    logger=CSVLogger(save_dir=save_dir, version=model_version),\n",
    ")\n",
    "trainer.test(\n",
    "    phase2fluor_model,\n",
    "    datamodule=test_data,\n",
    "    ckpt_path=ckpt_path,\n",
    ")\n",
    "# read metrics and plot\n",
    "metrics = pd.read_csv(Path(save_dir, \"lightning_logs\", model_version, \"metrics.csv\"))\n",
    "metrics.boxplot(\n",
    "    column=[\n",
    "        \"test_metrics/r2_step\",\n",
    "        \"test_metrics/pearson_step\",\n",
    "        \"test_metrics/SSIM_step\",\n",
    "    ],\n",
    "    rot=30,\n",
    ")"
   ]
  },
  {
   "cell_type": "markdown",
   "id": "74972942",
   "metadata": {
    "cell_marker": "\"\"\""
   },
   "source": [
    "<div class=\"alert alert-success\">\n",
    "Checkpoint 2\n",
    "Please summarize hyperparameters and performance of your models in [this google doc](https://docs.google.com/document/d/1hZWSVRvt9KJEdYu7ib-vFBqAVQRYL8cWaP_vFznu7D8/edit#heading=h.n5u485pmzv2z)\n",
    "\n",
    "Now that you have trained two models, let's think about the following questions:\n",
    "- What is the information content of each channel in the dataset?\n",
    "- How would you use image translation models?\n",
    "- What can you try to improve the performance of each model?\n",
    "\n",
    "\n",
    "</div>"
   ]
  },
  {
   "cell_type": "markdown",
   "id": "7d0c4204",
   "metadata": {
    "cell_marker": "\"\"\"",
    "incorrectly_encoded_metadata": "id='3_tuning'></a>",
    "title": "<a"
   },
   "source": [
    "# Part 3: Tune the models.\n",
    "--------------------------------------------------\n",
    "\n",
    "Learning goals:\n",
    "\n",
    "- Tweak model hyperparameters, such as number of filters at each depth.\n",
    "- Adjust learning rate to improve performance."
   ]
  },
  {
   "cell_type": "code",
   "execution_count": null,
   "id": "fd8c7cb1",
   "metadata": {
    "lines_to_next_cell": 0
   },
   "outputs": [],
   "source": []
  },
  {
   "cell_type": "code",
   "execution_count": null,
   "id": "036a0577",
   "metadata": {
    "lines_to_next_cell": 2
   },
   "outputs": [],
   "source": [
    "##########################\n",
    "######## TODO ########\n",
    "##########################\n",
    "\n",
    "# Choose a model you want to train (phase2fluor or fluor2phase).\n",
    "# Create a config to double the number of filters at each stage.\n",
    "# Use training loop illustrated in previous cells to train phase2fluor and fluor2phase models to prototype your own training loop."
   ]
  },
  {
   "cell_type": "code",
   "execution_count": null,
   "id": "da15aa96",
   "metadata": {
    "tags": [
     "solution"
    ]
   },
   "outputs": [],
   "source": [
    "\n",
    "##########################\n",
    "######## Solution ########\n",
    "##########################\n",
    "\n",
    "phase2fluor_wider_config = {\n",
    "    \"architecture\": \"2D\",\n",
    "    # double the number of filters at each stage\n",
    "    \"num_filters\": [48, 96, 192, 384, 768],\n",
    "    \"in_channels\": 1,\n",
    "    \"out_channels\": 2,\n",
    "    \"residual\": True,\n",
    "    \"dropout\": 0.1,\n",
    "    \"task\": \"reg\",\n",
    "}\n",
    "\n",
    "phase2fluor_wider_model = VSUNet(\n",
    "    model_config=phase2fluor_wider_config.copy(),\n",
    "    batch_size=BATCH_SIZE,\n",
    "    loss_function=torch.nn.functional.l1_loss,\n",
    "    schedule=\"WarmupCosine\",\n",
    "    log_num_samples=10,\n",
    "    example_input_yx_shape=YX_PATCH_SIZE,\n",
    ")\n",
    "\n",
    "\n",
    "trainer = VSTrainer(\n",
    "    accelerator=\"gpu\",\n",
    "    devices=[GPU_ID],\n",
    "    max_epochs=n_epochs,\n",
    "    log_every_n_steps=steps_per_epoch,\n",
    "    default_root_dir=Path(log_dir, \"phase2fluor\"),\n",
    "    fast_dev_run=True,\n",
    ")  # Set fast_dev_run to False to train the model.\n",
    "trainer.fit(phase2fluor_wider_model, datamodule=phase2fluor_data)"
   ]
  },
  {
   "cell_type": "code",
   "execution_count": null,
   "id": "0181cde7",
   "metadata": {
    "lines_to_next_cell": 2
   },
   "outputs": [],
   "source": [
    "##########################\n",
    "######## TODO ########\n",
    "##########################\n",
    "\n",
    "# Choose a model you want to train (phase2fluor or fluor2phase).\n",
    "# Train it with lower learning rate to see how the performance changes."
   ]
  },
  {
   "cell_type": "code",
   "execution_count": null,
   "id": "8d85c9f4",
   "metadata": {
    "lines_to_next_cell": 2,
    "tags": [
     "solution"
    ]
   },
   "outputs": [],
   "source": [
    "\n",
    "##########################\n",
    "######## Solution ########\n",
    "##########################\n",
    "\n",
    "phase2fluor_slow_model = VSUNet(\n",
    "    model_config=phase2fluor_config.copy(),\n",
    "    batch_size=BATCH_SIZE,\n",
    "    loss_function=torch.nn.functional.l1_loss,\n",
    "    # lower learning rate by 5 times\n",
    "    lr=2e-4,\n",
    "    schedule=\"WarmupCosine\",\n",
    "    log_num_samples=10,\n",
    "    example_input_yx_shape=YX_PATCH_SIZE,\n",
    ")\n",
    "\n",
    "trainer = VSTrainer(\n",
    "    accelerator=\"gpu\",\n",
    "    devices=[GPU_ID],\n",
    "    max_epochs=n_epochs,\n",
    "    log_every_n_steps=steps_per_epoch,\n",
    "    default_root_dir=Path(log_dir, \"phase2fluor\"),\n",
    "    fast_dev_run=True,\n",
    ")\n",
    "trainer.fit(phase2fluor_slow_model, datamodule=phase2fluor_data)"
   ]
  },
  {
   "cell_type": "markdown",
   "id": "b735a925",
   "metadata": {
    "cell_marker": "\"\"\""
   },
   "source": [
    "<div class=\"alert alert-success\">\n",
    "Checkpoint 3\n",
    "\n",
    "Congratulations! You have trained several image translation models now!\n",
    "Please document hyperparameters, snapshots of predictioons on validation set, and loss curves for your models in [this google doc](https://docs.google.com/document/d/1hZWSVRvt9KJEdYu7ib-vFBqAVQRYL8cWaP_vFznu7D8/edit#heading=h.n5u485pmzv2z)\n",
    "</div>"
   ]
  }
 ],
 "metadata": {
  "jupytext": {
   "cell_metadata_filter": "all",
   "main_language": "python"
  }
 },
 "nbformat": 4,
 "nbformat_minor": 5
}
