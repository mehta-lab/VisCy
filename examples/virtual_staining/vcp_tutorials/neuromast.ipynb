{
 "cells": [
  {
   "cell_type": "markdown",
   "id": "eb7ee801",
   "metadata": {
    "cell_marker": "\"\"\""
   },
   "source": [
    "# Cytoland Tutorial: Virtual Staining of Zebrafish Neuromasts with VSNeuromast\n",
    "\n",
    "**Estimated time to complete:** 15 minutes"
   ]
  },
  {
   "cell_type": "markdown",
   "id": "1df05a79",
   "metadata": {
    "cell_marker": "\"\"\""
   },
   "source": [
    "# Learning Goals\n",
    "\n",
    "* Download the VSNeuromast model and an example dataset containing time-lapse images of zebrafish neuromasts.\n",
    "* Pre-compute normalization statistics for the images using the `viscy preprocess` command-line interface (CLI).\n",
    "* Run inference for joint virtual staining of cell nuclei and plasma membrane via the `viscy predict` CLI.\n",
    "* Visualize the effect of photobleaching in fluorescence imaging and how virtual staining can mitigate this issue."
   ]
  },
  {
   "cell_type": "markdown",
   "id": "fb0e5585",
   "metadata": {
    "cell_marker": "\"\"\""
   },
   "source": [
    "# Prerequisites\n",
    "\n",
    "Python>=3.11"
   ]
  },
  {
   "cell_type": "markdown",
   "id": "17e67a9e",
   "metadata": {
    "cell_marker": "\"\"\""
   },
   "source": [
    "# Introduction\n",
    "\n",
    "The zebrafish neuromasts are sensory organs on the lateral lines.\n",
    "Given their relatively simple structure and high accessibility to live imaging,\n",
    "they are used as a model system to study organogenesis _in vivo_.\n",
    "However, multiplexed long-term fluorescence imaging at high spatial-temporal resolution\n",
    "is often limited by photobleaching and phototoxicity.\n",
    "Also, engineering fish lines with a combination of landmark fluorescent labels\n",
    "(e.g. nuclei and plasma membrane) and functional reporters increases experimental complexity.\n",
    "\\\n",
    "VSNeuromast is a 3D UNeXt2 model that has been trained on images of\n",
    "zebrafish neuromasts using the Cytoland approach.\n",
    "(See the [model card](https://virtualcellmodels.cziscience.com/paper/cytoland2025)\n",
    "for more details about the Cytoland models.)\n",
    "This model enables users to jointly stain cell nuclei and plasma membranes from 3D label-free images\n",
    "for downstream analysis such as cell segmentation and tracking."
   ]
  },
  {
   "cell_type": "markdown",
   "id": "7b348eff",
   "metadata": {
    "cell_marker": "\"\"\""
   },
   "source": [
    "# Setup\n",
    "\n",
    "The commands below will install the required packages and download the example dataset and model checkpoint.\n",
    "It may take a **few minutes** to download all the files.\n",
    "\n",
    "## Setup Google Colab\n",
    "\n",
    "To run this quick-start guide using Google Colab,\n",
    "choose the 'T4' GPU runtime from the \"Connect\" dropdown menu\n",
    "in the upper-right corner of this notebook for faster execution.\n",
    "Using a GPU significantly speeds up running model inference, but CPU compute can also be used.\n",
    "\n",
    "## Setup Local Environment\n",
    "\n",
    "The commands below assume a Unix-like shell with `wget` installed.\n",
    "On Windows, the files can be downloaded manually from the URLs."
   ]
  },
  {
   "cell_type": "code",
   "execution_count": null,
   "id": "c358cd98",
   "metadata": {},
   "outputs": [],
   "source": [
    "# Install VisCy with the optional dependencies for this example\n",
    "# See the [repository](https://github.com/mehta-lab/VisCy) for more details\n",
    "# Here stackview and ipycanvas are installed for visualization\n",
    "!pip install -U \"viscy[metrics,visual]==0.3\""
   ]
  },
  {
   "cell_type": "code",
   "execution_count": null,
   "id": "6db49b99",
   "metadata": {},
   "outputs": [],
   "source": [
    "# Restart kernel if running in Google Colab\n",
    "# This is required to use the packages installed above\n",
    "# The 'kernel crashed' message is expected here\n",
    "if \"get_ipython\" in globals():\n",
    "    session = get_ipython()\n",
    "    if \"google.colab\" in str(session):\n",
    "        print(\"Shutting down colab session.\")\n",
    "        session.kernel.do_shutdown(restart=True)"
   ]
  },
  {
   "cell_type": "code",
   "execution_count": null,
   "id": "cdad5fc2",
   "metadata": {},
   "outputs": [],
   "source": [
    "# Download the example dataset\n",
    "!wget -m -np -nH --cut-dirs=5 -R \"index.html*\" \"https://public.czbiohub.org/comp.micro/viscy/VS_datasets/VSNeuromast/test/isim-bleaching-example.zarr/\""
   ]
  },
  {
   "cell_type": "code",
   "execution_count": null,
   "id": "5f9fea8a",
   "metadata": {},
   "outputs": [],
   "source": [
    "# Rename the downloaded dataset to what the example prediction config expects (`input.ome.zarr`)\n",
    "# And validate the OME-Zarr metadata with iohub\n",
    "!mv isim-bleaching-example.zarr input.ome.zarr\n",
    "!iohub info -v input.ome.zarr"
   ]
  },
  {
   "cell_type": "code",
   "execution_count": null,
   "id": "d9a74e01",
   "metadata": {},
   "outputs": [],
   "source": [
    "# Download the VSNeuromast model checkpoint and prediction config\n",
    "!wget \"https://public.czbiohub.org/comp.micro/viscy/VS_models/VSNeuromast/epoch=64-step=24960.ckpt\"\n",
    "!wget \"https://public.czbiohub.org/comp.micro/viscy/VS_models/VSNeuromast/predict.yml\""
   ]
  },
  {
   "cell_type": "markdown",
   "id": "ee415cf9",
   "metadata": {
    "cell_marker": "\"\"\""
   },
   "source": [
    "# Use Case\n",
    "\n",
    "## Example Dataset\n",
    "\n",
    "The neuromast example dataset used in this tutorial contains\n",
    "quantitative phase and paired fluorescence images of the cell nuclei and the plasma membrane.\n",
    "\\\n",
    "**It is a subsampled time-lapse from a test set used to evaluate the VSNeuromast model.**\n",
    "\\\n",
    "The full dataset can be downloaded from the\n",
    "[BioImage Archive](https://www.ebi.ac.uk/biostudies/BioImages/studies/S-BIAD1702).\n",
    "\n",
    "Refer to our [preprint](https://doi.org/10.1101/2024.05.31.596901) for more details\n",
    "about how the dataset and model were generated.\n",
    "\n",
    "## Using Custom Data\n",
    "\n",
    "The model only requires label-free images for inference.\n",
    "To run inference on your own data,\n",
    "convert them into the [OME-Zarr](https://ngff.openmicroscopy.org/)\n",
    "data format using iohub or other\n",
    "[tools](https://ngff.openmicroscopy.org/tools/index.html#file-conversion),\n",
    "and edit the `predict.yml` file to specify the input data path.\n",
    "Specifically, the `data.init_args.data_path` field should be updated:\n",
    "\n",
    "```diff\n",
    "-     data_path: input.ome.zarr\n",
    "+     data_path: /path/to/your.ome.zarr\n",
    "```\n",
    "\n",
    "The image may need to be resampled to roughly match the voxel size of the example dataset\n",
    "(0.25x0.108x0.108 µm, ZYX)."
   ]
  },
  {
   "cell_type": "markdown",
   "id": "c072c813",
   "metadata": {
    "cell_marker": "\"\"\""
   },
   "source": [
    "# Run Model Inference\n",
    "\n",
    "On Google Colab, the preprocessing step takes about **1 minute**,\n",
    "and the inference step takes about **2 minutes** (T4 GPU)."
   ]
  },
  {
   "cell_type": "code",
   "execution_count": null,
   "id": "d1b0753d",
   "metadata": {},
   "outputs": [],
   "source": [
    "# Run the CLI command to pre-compute normalization statistics\n",
    "# This includes the median and interquartile range (IQR)\n",
    "# Used to shift and scale the intensity distribution of the input images\n",
    "!viscy preprocess --data_path=input.ome.zarr"
   ]
  },
  {
   "cell_type": "code",
   "execution_count": null,
   "id": "f9cec6a3",
   "metadata": {},
   "outputs": [],
   "source": [
    "# Run the CLI command to run inference\n",
    "!viscy predict -c predict.yml"
   ]
  },
  {
   "cell_type": "markdown",
   "id": "0c910f98",
   "metadata": {
    "cell_marker": "\"\"\""
   },
   "source": [
    "# Analysis of Model Outputs\n",
    "\n",
    "1. Visualize predicted images over time and compare with the fluorescence images.\n",
    "2. Measure photobleaching in the fluorescence images\n",
    "and how virtual staining can mitigate this issue.\n",
    "Since most pixels in the images are background,\n",
    "we will use the 99th percentile (brightest 1%)\n",
    "of the intensity distribution as a proxy for foreground signal."
   ]
  },
  {
   "cell_type": "code",
   "execution_count": null,
   "id": "b455da75",
   "metadata": {},
   "outputs": [],
   "source": [
    "# imports\n",
    "import matplotlib.pyplot as plt\n",
    "import numpy as np\n",
    "from cmap import Colormap\n",
    "from iohub import open_ome_zarr\n",
    "from numpy.typing import NDArray\n",
    "from skimage.exposure import rescale_intensity\n",
    "\n",
    "\n",
    "def render_rgb(\n",
    "    image: np.ndarray, colormap: Colormap\n",
    ") -> tuple[NDArray, plt.cm.ScalarMappable]:\n",
    "    \"\"\"Render a 2D grayscale image as RGB using a colormap.\n",
    "\n",
    "    Parameters\n",
    "    ----------\n",
    "    image : np.ndarray\n",
    "        intensity image\n",
    "    colormap : Colormap\n",
    "        colormap\n",
    "\n",
    "    Returns\n",
    "    -------\n",
    "    tuple[NDArray, plt.cm.ScalarMappable]\n",
    "        rendered RGB image and the color mapping\n",
    "    \"\"\"\n",
    "    image = rescale_intensity(image, out_range=(0, 1))\n",
    "    image = colormap(image)\n",
    "    mappable = plt.cm.ScalarMappable(\n",
    "        norm=plt.Normalize(0, 1), cmap=colormap.to_matplotlib()\n",
    "    )\n",
    "    return image, mappable"
   ]
  },
  {
   "cell_type": "code",
   "execution_count": null,
   "id": "d97b2849",
   "metadata": {},
   "outputs": [],
   "source": [
    "# read a single Z-slice for visualization\n",
    "z_slice = 30\n",
    "\n",
    "with open_ome_zarr(\"input.ome.zarr/0/3/0\") as fluor_store:\n",
    "    fluor_nucleus = fluor_store[0][:, 1, z_slice]\n",
    "    fluor_membrane = fluor_store[0][:, 0, z_slice]\n",
    "\n",
    "with open_ome_zarr(\"prediction.ome.zarr/0/3/0\") as vs_store:\n",
    "    vs_nucleus = vs_store[0][:, 1, z_slice]\n",
    "    vs_membrane = vs_store[0][:, 0, z_slice]\n",
    "\n",
    "\n",
    "# Render the images as RGB in false colors\n",
    "vs_nucleus_rgb, vs_nucleus_mappable = render_rgb(vs_nucleus, Colormap(\"bop_blue\"))\n",
    "vs_membrane_rgb, vs_membrane_mappable = render_rgb(vs_membrane, Colormap(\"bop_orange\"))\n",
    "merged_vs = (vs_nucleus_rgb + vs_membrane_rgb).clip(0, 1)\n",
    "\n",
    "fluor_nucleus_rgb, fluor_nucleus_mappable = render_rgb(fluor_nucleus, Colormap(\"green\"))\n",
    "fluor_membrane_rgb, fluor_membrane_mappable = render_rgb(\n",
    "    fluor_membrane, Colormap(\"magenta\")\n",
    ")\n",
    "merged_fluor = (fluor_nucleus_rgb + fluor_membrane_rgb).clip(0, 1)\n",
    "\n",
    "# Plot\n",
    "fig = plt.figure(figsize=(12, 7), layout=\"constrained\")\n",
    "\n",
    "images = {\"fluorescence\": merged_fluor, \"virtual staining\": merged_vs}\n",
    "\n",
    "for row, (subfig, (name, img)) in enumerate(\n",
    "    zip(fig.subfigures(nrows=2, ncols=1), images.items())\n",
    "):\n",
    "    subfig.suptitle(name)\n",
    "    cax_nuc = subfig.add_axes([1, 0.55, 0.02, 0.3])\n",
    "    cax_mem = subfig.add_axes([1, 0.15, 0.02, 0.3])\n",
    "    axes = subfig.subplots(ncols=len(merged_vs))\n",
    "    for t, ax in enumerate(axes):\n",
    "        if row == 1:\n",
    "            ax.set_title(f\"{t * 30} min\", y=-0.1)\n",
    "        ax.imshow(img[t])\n",
    "        ax.axis(\"off\")\n",
    "    if row == 0:\n",
    "        subfig.colorbar(fluor_nucleus_mappable, cax=cax_nuc, label=\"Nuclei (GFP)\")\n",
    "        subfig.colorbar(\n",
    "            fluor_membrane_mappable, cax=cax_mem, label=\"Membrane (mScarlett)\"\n",
    "        )\n",
    "    elif row == 1:\n",
    "        subfig.colorbar(vs_nucleus_mappable, cax=cax_nuc, label=\"Nuclei (VS)\")\n",
    "        subfig.colorbar(vs_membrane_mappable, cax=cax_mem, label=\"Membrane (VS)\")\n",
    "\n",
    "plt.show()"
   ]
  },
  {
   "cell_type": "markdown",
   "id": "d562747b",
   "metadata": {
    "cell_marker": "\"\"\""
   },
   "source": [
    "The plasma membrane fluorescence decreases over time,\n",
    "while the virtual staining remains stable.\n",
    "How significant is this effect? Is it consistent with photobleaching?\n",
    "Analysis below will answer these questions."
   ]
  },
  {
   "cell_type": "code",
   "execution_count": null,
   "id": "44aa8da3",
   "metadata": {},
   "outputs": [],
   "source": [
    "def highlight_intensity_normalized(fov_path: str, channel_name: str) -> list[float]:\n",
    "    \"\"\"\n",
    "    Compute highlight (99th percentile) intensity of each timepoint,\n",
    "    normalized to the first timepoint.\n",
    "\n",
    "    Parameters\n",
    "    ----------\n",
    "    fov_path : str\n",
    "        Path to the field of view (FOV).\n",
    "    channel_name : str\n",
    "        Name of the channel to compute highlight intensity for.\n",
    "\n",
    "    Returns\n",
    "    -------\n",
    "    NDArray\n",
    "        List of intensity values.\n",
    "    \"\"\"\n",
    "    with open_ome_zarr(fov_path) as fov:\n",
    "        channel_index = fov.get_channel_index(channel_name)\n",
    "        channel = fov[\"0\"].dask_array()[:, channel_index]\n",
    "        highlights = []\n",
    "        for t, volume in enumerate(channel):\n",
    "            highlights.append(np.percentile(volume.compute(), 99))\n",
    "        return [h / highlights[0] for h in highlights]"
   ]
  },
  {
   "cell_type": "code",
   "execution_count": null,
   "id": "d7152396",
   "metadata": {},
   "outputs": [],
   "source": [
    "# Plot intensity over time\n",
    "mean_fl = highlight_intensity_normalized(\"input.ome.zarr/0/3/0\", \"mScarlett\")\n",
    "mean_vs = highlight_intensity_normalized(\n",
    "    \"prediction.ome.zarr/0/3/0\", \"membrane_prediction\"\n",
    ")\n",
    "time = np.arange(0, 100, 30)\n",
    "\n",
    "plt.plot(time, mean_fl, label=\"membrane fluorescence\")\n",
    "plt.plot(time, mean_vs, label=\"membrane virtual staining\")\n",
    "plt.xlabel(\"time / min\")\n",
    "plt.ylabel(\"normalized highlight intensity\")\n",
    "plt.legend()"
   ]
  },
  {
   "cell_type": "markdown",
   "id": "88b01761",
   "metadata": {
    "cell_marker": "\"\"\""
   },
   "source": [
    "Here the highlight intensity of the fluorescence images decreases over time,\n",
    "following a exponential decay pattern, indicating photobleaching.\n",
    "The virtual staining is not affected by this issue.\n",
    "(The object drifts slightly over time, so some inherent noise is expected.)"
   ]
  },
  {
   "cell_type": "markdown",
   "id": "75313b9b",
   "metadata": {
    "cell_marker": "\"\"\""
   },
   "source": [
    "# Summary\n",
    "\n",
    "In the above example, we demonstrated how to use the VSNeuromast model\n",
    "for virtual staining of cell nuclei and plasma membranes of the zebrafish neuromast _in vivo_,\n",
    "which can avoid photobleaching in long-term live imaging."
   ]
  },
  {
   "cell_type": "markdown",
   "id": "4995a2bd",
   "metadata": {
    "cell_marker": "\"\"\""
   },
   "source": [
    "## Contact & Feedback\n",
    "\n",
    "For issues or feedback about this tutorial please contact Ziwen Liu at [ziwen.liu@czbiohub.org](mailto:ziwen.liu@czbiohub.org).\n",
    "\n",
    "## Responsible Use\n",
    "\n",
    "We are committed to advancing the responsible development and use of artificial intelligence.\n",
    "Please follow our [Acceptable Use Policy](https://virtualcellmodels.cziscience.com/acceptable-use-policy) when engaging with our services.\n",
    "\n",
    "Should you have any security or privacy issues or questions related to the services,\n",
    "please reach out to our team at [security@chanzuckerberg.com](mailto:security@chanzuckerberg.com) or [privacy@chanzuckerberg.com](mailto:privacy@chanzuckerberg.com) respectively."
   ]
  }
 ],
 "metadata": {
  "jupytext": {
   "cell_metadata_filter": "all",
   "main_language": "python"
  }
 },
 "nbformat": 4,
 "nbformat_minor": 5
}
