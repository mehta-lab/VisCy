{
 "cells": [
  {
   "cell_type": "code",
   "execution_count": 1,
   "id": "dcde6693-3bc2-4fb0-9b91-9012f183788d",
   "metadata": {},
   "outputs": [],
   "source": [
    "%load_ext autoreload\n",
    "%autoreload 2"
   ]
  },
  {
   "cell_type": "code",
   "execution_count": 2,
   "id": "a4513cc5-b731-4781-aa69-85298703f251",
   "metadata": {},
   "outputs": [],
   "source": [
    "import torch\n",
    "import torch.nn as nn\n",
    "import torch.nn.functional as F"
   ]
  },
  {
   "cell_type": "code",
   "execution_count": 3,
   "id": "515a7a34-d1aa-4e35-b07c-b2e73e114013",
   "metadata": {},
   "outputs": [],
   "source": [
    "import torchvision\n",
    "import torchvision.transforms as transforms\n",
    "from torchvision.transforms import ToTensor\n",
    "\n",
    "from torch.utils.data import Dataset\n",
    "from torch.utils.data import DataLoader\n",
    "from torchvision import datasets\n",
    "\n",
    "\n",
    "import torch.optim as op\n",
    "from torch.utils.tensorboard import SummaryWriter"
   ]
  },
  {
   "cell_type": "code",
   "execution_count": 4,
   "id": "fe30ad26-aa8a-4911-b264-96957a0544ca",
   "metadata": {},
   "outputs": [],
   "source": [
    "import numpy as np\n",
    "import scipy\n",
    "import cv2\n",
    "import random"
   ]
  },
  {
   "cell_type": "code",
   "execution_count": 5,
   "id": "8f6eb1bf-16da-4efd-bb94-4e8a6b82d657",
   "metadata": {},
   "outputs": [],
   "source": [
    "import numpy.linalg as linalg\n",
    "import matplotlib.pyplot as plt"
   ]
  },
  {
   "cell_type": "code",
   "execution_count": 84,
   "id": "b4c5985c-8340-4bca-a0f3-a3b6f1df7699",
   "metadata": {},
   "outputs": [],
   "source": [
    "#io\n",
    "import glob\n",
    "from PIL import Image\n",
    "import os\n",
    "import collections\n",
    "import re\n",
    "import sys\n",
    "import datetime\n",
    "import collections"
   ]
  },
  {
   "cell_type": "code",
   "execution_count": 8,
   "id": "6b0e13cf-1132-4fe5-8c87-92f1ab76529d",
   "metadata": {},
   "outputs": [
    {
     "name": "stdout",
     "output_type": "stream",
     "text": [
      "System path: /home/christian.foley/virtual_staining/microDL\n"
     ]
    }
   ],
   "source": [
    "# Add module path to sys\n",
    "module_path = os.path.abspath(os.path.join('..'))\n",
    "print(\"System path: \"+module_path)\n",
    "if module_path not in sys.path:\n",
    "    sys.path.append(module_path)\n",
    "    \n",
    "import micro_dl.torch_unet.networks.Unet2D as Unet2D\n",
    "import micro_dl.torch_unet.networks.Unet25D as Unet25D\n",
    "import micro_dl.torch_unet.networks.layers.ConvBlock2D as ConvBlock2D\n",
    "import micro_dl.torch_unet.networks.layers.ConvBlock3D as ConvBlock3D\n",
    "import micro_dl.torch_unet.utils.dataset as ds\n",
    "import micro_dl.torch_unet.utils.io as io"
   ]
  },
  {
   "cell_type": "markdown",
   "id": "9086a0c1-5b08-4f38-89d2-ce77d39957b1",
   "metadata": {},
   "source": [
    "### Data Acquisition"
   ]
  },
  {
   "cell_type": "code",
   "execution_count": 27,
   "id": "aab8ad39-c8a4-43e9-9ccd-07759c8b1554",
   "metadata": {},
   "outputs": [],
   "source": [
    "data_directory_old = '/hpc/projects/compmicro/projects/virtualstaining/MBL_DL_image_translation/data/'\n",
    "\n",
    "data_directory = '/hpc/projects/CompMicro/projects/Rickettsia/2022_RickettsiaAnalysis_Soorya/3_Cell_Image_Preprocessing/VirtualStainingMicroDL_KidneyMBL/data'\n",
    "model_dir = f'/hpc/projects/compmicro/projects/virtualstaining/torch_microDL_models/Unet25d'"
   ]
  },
  {
   "cell_type": "code",
   "execution_count": 39,
   "id": "0e09be07-7e53-49a9-823b-2c46c6843236",
   "metadata": {},
   "outputs": [],
   "source": [
    "test_data_dir = '/hpc/projects/CompMicro/projects/virtualstaining/MBL_DL_image_translation/temp/tile_small_25D/tiles_256-256_step_128-128'"
   ]
  },
  {
   "cell_type": "code",
   "execution_count": 45,
   "id": "f4848334-dff0-447d-b834-fa85734866ab",
   "metadata": {},
   "outputs": [],
   "source": [
    "f = 'im_c002_z013_t000_p007_r1280-1536_c128-384_sl0-5.npy'"
   ]
  },
  {
   "cell_type": "code",
   "execution_count": 89,
   "id": "1d48293b-fe37-4e61-a1d5-9c4df38346d4",
   "metadata": {},
   "outputs": [
    {
     "data": {
      "text/plain": [
       "'c002_'"
      ]
     },
     "execution_count": 89,
     "metadata": {},
     "output_type": "execute_result"
    }
   ],
   "source": [
    "re.search('c[0-9]{3}_', f).group(0)"
   ]
  },
  {
   "cell_type": "code",
   "execution_count": 167,
   "id": "18faf1bc-ea2e-4142-ad9d-1d9da6cd688b",
   "metadata": {},
   "outputs": [],
   "source": [
    "def sort_files(files, tags):\n",
    "    '''\n",
    "    Sorts filenames by priority order of tags specified in [tags]. \n",
    "    \n",
    "    Params:\n",
    "        files -> list[string]: list of filenames with uniform naming convention\n",
    "        tags -> list[string]: tags to organize the filenames by    \n",
    "    '''\n",
    "    spans = []\n",
    "    for tag in tags:\n",
    "        span = re.search(tag, files[0]).span()\n",
    "        spans.append(span)\n",
    "\n",
    "    key = lambda x: tuple([x[s[0]:s[1]] for s in spans])\n",
    "    files.sort(key = key)\n",
    "    return files\n",
    "\n",
    "def make_hash(files, tags):\n",
    "    '''\n",
    "    Recursively constructs hashmaps trees of filenames based on the tags given in tags.\n",
    "    Follows order of tags given in tags; first tag -> separation in highest level tree \n",
    "    \n",
    "    Params:\n",
    "        files -> list[string]: list of filenames with uniform naming convention\n",
    "        tags -> list[string]: tags to organize the filenames by\n",
    "    '''\n",
    "    \n",
    "    if len(tags) == 0:\n",
    "        return files, len(files)\n",
    "    \n",
    "    tag = tags.pop(0)\n",
    "    hmap = {}\n",
    "    \n",
    "    for f in files:\n",
    "        match = re.search(tag, f).group(0)\n",
    "        if match in hmap:\n",
    "            hmap[match].append(f)\n",
    "        else:\n",
    "            hmap[match] = [f]\n",
    "    \n",
    "    all_files = 0\n",
    "    for key in hmap:\n",
    "        key_files = hmap[key]\n",
    "        hmap[key], n_files= make_hash(key_files, tags)\n",
    "        all_files += n_files\n",
    "    \n",
    "    return hmap, all_files\n",
    "\n",
    "def parse_directory(directory, mode = 'sort', tags = [], specify_type = None):\n",
    "    '''\n",
    "    Organizes filenames by the given tags in order. Tags should be given as regex patterns and will\n",
    "    be recognized as the first instance of that pattern in each name.\n",
    "    \n",
    "    Any 4 character pattern can be specified in tags, but standard convention requires data of naming convention:\n",
    "        'im_c***_z***_t***_p***_..._****.npy'\n",
    "        where:\n",
    "            c*** : channel\n",
    "            z*** : z slice\n",
    "            t*** : timestep\n",
    "            p*** : position (fov)\n",
    "    \n",
    "    mode:\n",
    "        - sort: returns all filenames of type specify_type sorted in order of tags\n",
    "        - hash: returns nested hashmaps of files organized by their tags.\n",
    "    \n",
    "    Dependencies: re, os\n",
    "    '''\n",
    "    \n",
    "    files = os.listdir(directory)\n",
    "    \n",
    "    # filter out incorrect types/endings\n",
    "    if specify_type:\n",
    "        if specify_type == 'dir':\n",
    "            files = [f for f in files if os.path.isdir(os.path.join(directory,f))]\n",
    "        elif specify_type == 'file':\n",
    "            files = [f for f in files if os.path.isfile(os.path.join(directory,f))]\n",
    "        else:\n",
    "            files = [f for f in files if os.path.isfile(os.path.join(directory,f))]\n",
    "            \n",
    "            ind = len(specify_type)\n",
    "            files = [f for f in files if f[-ind:] == specify_type]\n",
    "        \n",
    "        \n",
    "    if mode == 'sort':\n",
    "        sorted_files = sort_files(files, tags)\n",
    "        return files\n",
    "    \n",
    "    if mode == 'hash':\n",
    "        file_hash = make_hash(files, tags)\n",
    "        return file_hash\n",
    "    \n",
    "    if mode == 'sorted hash':\n",
    "        sorted_files = sort_files(files, tags)\n",
    "        sorted_file_hash, _ = make_hash(sorted_files, tags)\n",
    "        return sorted_file_hash, _\n",
    "            \n",
    "    raise NotImplementedError(f'Mode {mode} not yet implemented or not accepted')\n",
    "    return"
   ]
  },
  {
   "cell_type": "code",
   "execution_count": 168,
   "id": "9be0398c-50df-463c-92cc-869735ffa5dd",
   "metadata": {},
   "outputs": [],
   "source": [
    "directory_tree, _ = parse_directory(test_data_dir, 'sorted hash', ['t[0-9]{3}', 'p[0-9]{3}', 'c[0-9]{3}', 'z[0-9]{3}'], '.npy')"
   ]
  },
  {
   "cell_type": "code",
   "execution_count": 169,
   "id": "f1319c56-cf37-423d-bfc0-cf2c3aaec1eb",
   "metadata": {},
   "outputs": [
    {
     "name": "stdout",
     "output_type": "stream",
     "text": [
      "17370\n"
     ]
    }
   ],
   "source": [
    "print(_)"
   ]
  },
  {
   "cell_type": "code",
   "execution_count": null,
   "id": "3fc38814-e0f8-4528-a7e0-4c76f4be867d",
   "metadata": {},
   "outputs": [],
   "source": []
  }
 ],
 "metadata": {
  "kernelspec": {
   "display_name": "Python [conda env:.conda-pt_staining]",
   "language": "python",
   "name": "conda-env-.conda-pt_staining-py"
  },
  "language_info": {
   "codemirror_mode": {
    "name": "ipython",
    "version": 3
   },
   "file_extension": ".py",
   "mimetype": "text/x-python",
   "name": "python",
   "nbconvert_exporter": "python",
   "pygments_lexer": "ipython3",
   "version": "3.6.13"
  }
 },
 "nbformat": 4,
 "nbformat_minor": 5
}
